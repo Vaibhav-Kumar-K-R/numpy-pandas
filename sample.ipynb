{
 "cells": [
  {
   "cell_type": "code",
   "execution_count": null,
   "metadata": {},
   "outputs": [],
   "source": [
    "import numpy as np\n",
    "import pandas as pd\n",
    "data=[1,2,3]\n",
    "series=pd.Series(data,index=['a','b','c'])\n",
    "print(series)"
   ]
  },
  {
   "cell_type": "code",
   "execution_count": null,
   "metadata": {},
   "outputs": [],
   "source": [
    "data1={\n",
    "    'Name':['Suket','Sangram'],\n",
    "    'Age':[19,23],\n",
    "    'City':['Mysuru','Bangalore']\n",
    "}\n",
    "data2={\n",
    "    # 'Name':['Suket','Sangram'],\n",
    "    'Age':[19,23],\n",
    "    'Pincode':['570016','580013']\n",
    "}\n",
    "df1=pd.DataFrame(data1)\n",
    "df2=pd.DataFrame(data2)\n",
    "print(pd.merge(df1,df2,on='Age'))"
   ]
  },
  {
   "cell_type": "code",
   "execution_count": null,
   "metadata": {},
   "outputs": [],
   "source": [
    "data1={\n",
    "    'Name':['Suket','Sangram'],\n",
    "    'Age':[19,23],\n",
    "    'City':['Mysuru','Bangalore']\n",
    "}\n",
    "data2={\n",
    "    # 'Name':['Suket','Sangram'],\n",
    "    'Age':[19,23],\n",
    "    'Pincode':['570016','580003']\n",
    "}\n",
    "df1=pd.DataFrame(data1)\n",
    "df2=pd.DataFrame(data2)\n",
    "print(df2.sort_values(by=['Age','Pincode'],ascending=[True,False]))\n",
    "print(df1[df1['Age']>20])"
   ]
  },
  {
   "cell_type": "code",
   "execution_count": null,
   "metadata": {},
   "outputs": [],
   "source": [
    "gender={'Suket':'Male','Sangram':'Male'}\n",
    "df1['Gender']=df1['Name'].map(gender)\n",
    "print(df1)\n",
    "print(df1.loc[1,'City'])\n",
    "print(df1.iloc[0,2])\n",
    "print(df1.loc[1:2,['Name','Age']])"
   ]
  },
  {
   "cell_type": "code",
   "execution_count": null,
   "metadata": {},
   "outputs": [],
   "source": [
    "data={'A':[1,2,2,3,5,9],'B':[4,5,5,7,18,0]}\n",
    "df=pd.DataFrame(data)\n",
    "print(df.duplicated())\n",
    "df1=df.drop_duplicates()\n",
    "print(df1)"
   ]
  },
  {
   "cell_type": "code",
   "execution_count": 30,
   "metadata": {},
   "outputs": [
    {
     "name": "stdout",
     "output_type": "stream",
     "text": [
      "8.8\n"
     ]
    }
   ],
   "source": [
    "q=df['A'].quantile(0.99)\n",
    "print(q)\n"
   ]
  },
  {
   "cell_type": "code",
   "execution_count": null,
   "metadata": {},
   "outputs": [],
   "source": [
    "df['A']=df['A'].clip(lower=None,upper=q)\n",
    "print(df['A'])"
   ]
  },
  {
   "cell_type": "code",
   "execution_count": null,
   "metadata": {},
   "outputs": [],
   "source": [
    "data={'A':[1,2,np.nan,3,5,9],'B':[4,np.nan,5,7,np.nan,0]}\n",
    "df=pd.DataFrame(data)\n",
    "replced=df.fillna(value=101)\n",
    "df['A']=df['A'].fillna(value=df['A'].mean())\n",
    "df['B']=df['B'].fillna(value=df['B'].mean())"
   ]
  },
  {
   "cell_type": "code",
   "execution_count": null,
   "metadata": {},
   "outputs": [],
   "source": [
    "print(df.max())\n",
    "print(df.min())"
   ]
  },
  {
   "cell_type": "code",
   "execution_count": null,
   "metadata": {},
   "outputs": [],
   "source": [
    "data={'A':['Red','Green','White','Yellow','Purple','Black'],'B':[4,5,5,7,18,0]}\n",
    "df=pd.DataFrame(data)\n",
    "df=pd.get_dummies(df,columns=['A'],dtype=int)\n",
    "print(df)          "
   ]
  }
 ],
 "metadata": {
  "kernelspec": {
   "display_name": ".venv",
   "language": "python",
   "name": "python3"
  },
  "language_info": {
   "codemirror_mode": {
    "name": "ipython",
    "version": 3
   },
   "file_extension": ".py",
   "mimetype": "text/x-python",
   "name": "python",
   "nbconvert_exporter": "python",
   "pygments_lexer": "ipython3",
   "version": "3.13.2"
  }
 },
 "nbformat": 4,
 "nbformat_minor": 2
}
